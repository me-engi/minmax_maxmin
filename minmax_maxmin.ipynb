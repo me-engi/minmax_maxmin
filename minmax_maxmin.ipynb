{
  "nbformat": 4,
  "nbformat_minor": 0,
  "metadata": {
    "colab": {
      "provenance": []
    },
    "kernelspec": {
      "name": "python3",
      "display_name": "Python 3"
    },
    "language_info": {
      "name": "python"
    }
  },
  "cells": [
    {
      "cell_type": "code",
      "execution_count": null,
      "metadata": {
        "colab": {
          "base_uri": "https://localhost:8080/"
        },
        "id": "KZnfCaLejQHd",
        "outputId": "1d154176-8ade-4e49-9d77-6c5ab394c598"
      },
      "outputs": [
        {
          "output_type": "stream",
          "name": "stdout",
          "text": [
            "Minmax: 7\n",
            "Maxmin: 7\n",
            "No saddle point found\n"
          ]
        }
      ],
      "source": [
        "def minmax(matrix):\n",
        "    min_values = []\n",
        "    for row in matrix:\n",
        "        min_values.append(min(row))\n",
        "    return max(min_values)\n",
        "\n",
        "def maxmin(matrix):\n",
        "    max_values = []\n",
        "    for col in zip(*matrix):\n",
        "        max_values.append(max(col))\n",
        "    return min(max_values)\n",
        "\n",
        "def saddle_point(matrix):\n",
        "    for i, row in enumerate(matrix):\n",
        "        for j, element in enumerate(row):\n",
        "            if element == min(row) and element == max(matrix[j]):\n",
        "                return (i, j)\n",
        "    return None\n",
        "\n",
        "# Example matrix\n",
        "matrix = [[3, 2, 4], [1, 5, 6], [8, 7, 9]]\n",
        "\n",
        "# Find Minmax\n",
        "print(\"Minmax:\", minmax(matrix))\n",
        "\n",
        "# Find Maxmin\n",
        "print(\"Maxmin:\", maxmin(matrix))\n",
        "\n",
        "# Find saddle point\n",
        "saddle = saddle_point(matrix)\n",
        "if saddle:\n",
        "    print(\"Saddle point:\", matrix[saddle[0]][saddle[1]])\n",
        "else:\n",
        "    print(\"No saddle point found\")\n"
      ]
    }
  ]
}